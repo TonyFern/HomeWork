{
 "cells": [
  {
   "cell_type": "code",
   "execution_count": 135,
   "metadata": {},
   "outputs": [],
   "source": [
    "import re\n",
    "import string\n",
    "import os\n",
    "import numpy as np"
   ]
  },
  {
   "cell_type": "code",
   "execution_count": 136,
   "metadata": {},
   "outputs": [],
   "source": [
    "# pick a file number\n",
    "fileNum = 1"
   ]
  },
  {
   "cell_type": "code",
   "execution_count": 137,
   "metadata": {},
   "outputs": [],
   "source": [
    "# file handle\n",
    "fileHandle = os.path.join(\"raw_data\", \"paragraph_\" + str(fileNum) + \".txt\")"
   ]
  },
  {
   "cell_type": "code",
   "execution_count": 138,
   "metadata": {},
   "outputs": [],
   "source": [
    "# read in file, save text as str\n",
    "paragraphString = \"\"\n",
    "with open(fileHandle, \"r\") as textfile:\n",
    "    paragraphString = textfile.read()"
   ]
  },
  {
   "cell_type": "code",
   "execution_count": 139,
   "metadata": {},
   "outputs": [
    {
     "name": "stdout",
     "output_type": "stream",
     "text": [
      "5\n"
     ]
    }
   ],
   "source": [
    "# sentence count\n",
    "countSentence = paragraphString.count(\".\") + \\\n",
    "paragraphString.count(\"?\") + \\\n",
    "paragraphString.count(\"!\")\n",
    "print(countSentence)"
   ]
  },
  {
   "cell_type": "code",
   "execution_count": 140,
   "metadata": {},
   "outputs": [
    {
     "name": "stdout",
     "output_type": "stream",
     "text": [
      "abcdefghijklmnopqrstuvwxyzABCDEFGHIJKLMNOPQRSTUVWXYZ \n"
     ]
    }
   ],
   "source": [
    "letter = string.ascii_letters + \" \"\n",
    "print(letter)"
   ]
  },
  {
   "cell_type": "code",
   "execution_count": 141,
   "metadata": {},
   "outputs": [],
   "source": [
    "# del all char\n",
    "for elt in paragraphString:\n",
    "    if elt not in letter:\n",
    "        paragraphString = paragraphString.replace(elt,\"\")"
   ]
  },
  {
   "cell_type": "code",
   "execution_count": 142,
   "metadata": {},
   "outputs": [],
   "source": [
    "# make name space a list of str & split space\n",
    "paraList = paragraphString.split(\" \")"
   ]
  },
  {
   "cell_type": "code",
   "execution_count": 143,
   "metadata": {},
   "outputs": [],
   "source": [
    "# count letters in paragraph\n",
    "totalLetters = 0\n",
    "for word in paraList:\n",
    "    totalLetters += len(word)"
   ]
  },
  {
   "cell_type": "code",
   "execution_count": 144,
   "metadata": {},
   "outputs": [],
   "source": [
    "countWords = len(paraList)"
   ]
  },
  {
   "cell_type": "code",
   "execution_count": 145,
   "metadata": {},
   "outputs": [
    {
     "name": "stdout",
     "output_type": "stream",
     "text": [
      "6.246153846153846\n"
     ]
    }
   ],
   "source": [
    "# avg word len\n",
    "avgWordLen = totalLetters / countWords\n",
    "print(avgWordLen)"
   ]
  },
  {
   "cell_type": "code",
   "execution_count": 146,
   "metadata": {},
   "outputs": [
    {
     "name": "stdout",
     "output_type": "stream",
     "text": [
      "26.0\n"
     ]
    }
   ],
   "source": [
    "wordsPerSentence = countWords / countSentence\n",
    "print(wordsPerSentence)"
   ]
  },
  {
   "cell_type": "code",
   "execution_count": 147,
   "metadata": {},
   "outputs": [],
   "source": [
    "toTextFile = os.path.join(\"Output\", \"paragraph_analysis_\" + str(fileNum) + \".txt\")"
   ]
  },
  {
   "cell_type": "code",
   "execution_count": 148,
   "metadata": {},
   "outputs": [],
   "source": [
    "with open(toTextFile, \"w\") as textfile:\n",
    "    textfile.writelines(\"Paragraph Analysis-----Approximate Word Count: \"\n",
    "                        + str(countWords)+ \" Approximate Sentence Count: \"+ str(countSentence) + \n",
    "                        \" Average Letter Count: \" + str(avgWordLen) + \n",
    "                        \" Average Sentence Length: \" + str(wordsPerSentence))"
   ]
  },
  {
   "cell_type": "code",
   "execution_count": 149,
   "metadata": {},
   "outputs": [
    {
     "name": "stdout",
     "output_type": "stream",
     "text": [
      "Paragraph Analysis-----Approximate Word Count: 130 Approximate Sentence Count: 5 Average Letter Count: 6.246153846153846 Average Sentence Length: 26.0\n"
     ]
    }
   ],
   "source": [
    "with open(toTextFile,\"r\") as textOutput:\n",
    "    print(textOutput.read())"
   ]
  },
  {
   "cell_type": "code",
   "execution_count": null,
   "metadata": {},
   "outputs": [],
   "source": []
  }
 ],
 "metadata": {
  "kernelspec": {
   "display_name": "Python 3",
   "language": "python",
   "name": "python3"
  },
  "language_info": {
   "codemirror_mode": {
    "name": "ipython",
    "version": 3
   },
   "file_extension": ".py",
   "mimetype": "text/x-python",
   "name": "python",
   "nbconvert_exporter": "python",
   "pygments_lexer": "ipython3",
   "version": "3.6.3"
  }
 },
 "nbformat": 4,
 "nbformat_minor": 2
}
