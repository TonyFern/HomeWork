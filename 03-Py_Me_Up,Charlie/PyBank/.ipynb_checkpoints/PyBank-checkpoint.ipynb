{
 "cells": [
  {
   "cell_type": "code",
   "execution_count": 22,
   "metadata": {},
   "outputs": [],
   "source": [
    "import csv\n",
    "import os\n",
    "import numpy as np"
   ]
  },
  {
   "cell_type": "code",
   "execution_count": 23,
   "metadata": {},
   "outputs": [],
   "source": [
    "# select a file\n",
    "file = 1"
   ]
  },
  {
   "cell_type": "code",
   "execution_count": 24,
   "metadata": {},
   "outputs": [],
   "source": [
    "# file handle\n",
    "fileHandle = os.path.join(\"raw_data\", \"budget_data_\" + str(file) + \".csv\")"
   ]
  },
  {
   "cell_type": "code",
   "execution_count": 25,
   "metadata": {},
   "outputs": [],
   "source": [
    "# buckets for date and revenue data\n",
    "date = []\n",
    "revenue = []"
   ]
  },
  {
   "cell_type": "code",
   "execution_count": 29,
   "metadata": {},
   "outputs": [],
   "source": [
    "# read csv\n",
    "with open(fileHandle, \"r\") as csvFile:\n",
    "    readCsv = csv.reader(csvFile)\n",
    "    next(readCsv,None)\n",
    "    \n",
    "    for row in readCsv:\n",
    "        date.append(row[0])\n",
    "        revenue.append(int(row[1]))\n",
    "    "
   ]
  },
  {
   "cell_type": "code",
   "execution_count": 32,
   "metadata": {},
   "outputs": [
    {
     "name": "stdout",
     "output_type": "stream",
     "text": [
      "41\n"
     ]
    }
   ],
   "source": [
    "# months\n",
    "totalMonths = len(date)\n",
    "print(totalMonths)"
   ]
  },
  {
   "cell_type": "code",
   "execution_count": 36,
   "metadata": {},
   "outputs": [],
   "source": [
    "# Greatest Increase & Greatest Decrease... descending search\n",
    "greatestInc = revenue[0]\n",
    "greatestDec = revenue[0]\n",
    "totalRevenue = 0"
   ]
  },
  {
   "cell_type": "code",
   "execution_count": null,
   "metadata": {},
   "outputs": [],
   "source": [
    "# iterate over rev to find increase/decrease & sum rev\n",
    "for elt in range(len(revenue)):\n",
    "    if revenue[elt] >= greatestInc\n",
    "    "
   ]
  }
 ],
 "metadata": {
  "kernelspec": {
   "display_name": "Python 3",
   "language": "python",
   "name": "python3"
  },
  "language_info": {
   "codemirror_mode": {
    "name": "ipython",
    "version": 3
   },
   "file_extension": ".py",
   "mimetype": "text/x-python",
   "name": "python",
   "nbconvert_exporter": "python",
   "pygments_lexer": "ipython3",
   "version": "3.6.3"
  }
 },
 "nbformat": 4,
 "nbformat_minor": 2
}
